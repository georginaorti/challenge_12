{
 "cells": [
  {
   "cell_type": "code",
   "execution_count": 35,
   "metadata": {},
   "outputs": [],
   "source": [
    "from bs4 import BeautifulSoup\n",
    "import requests\n",
    "import pymongo"
   ]
  },
  {
   "cell_type": "code",
   "execution_count": 36,
   "metadata": {},
   "outputs": [],
   "source": [
    "conn = 'mongodb://localhost:27017'\n",
    "client = pymongo.MongoClient(conn)"
   ]
  },
  {
   "cell_type": "code",
   "execution_count": 37,
   "metadata": {},
   "outputs": [],
   "source": [
    "db = client.mars_db\n",
    "collection = db.items"
   ]
  },
  {
   "cell_type": "code",
   "execution_count": 38,
   "metadata": {},
   "outputs": [],
   "source": [
    "url = 'https://redplanetscience.com'\n",
    "response = requests.get(url)\n",
    "soup= BeautifulSoup(response.text, 'html.parser')"
   ]
  },
  {
   "cell_type": "code",
   "execution_count": 48,
   "metadata": {},
   "outputs": [],
   "source": [
    "results = soup.find_all('div', class_='list_text')\n",
    "\n",
    "for result in results:\n",
    " \n",
    "        title = results.find('div', class_='content_title')\n",
    "   \n",
    "        preview_text = results.find('div', class_='article_teaser_body')\n",
    "\n",
    "        print('-----------------')\n",
    "        print(title)\n",
    "        print(preview_text)\n",
    "\n",
    "        post = {\n",
    "            'title': title,\n",
    "            'preview_text': preview_text,\n",
    "        }\n",
    "\n",
    "        collection.insert_one(post)\n"
   ]
  },
  {
   "cell_type": "code",
   "execution_count": 49,
   "metadata": {},
   "outputs": [
    {
     "name": "stdout",
     "output_type": "stream",
     "text": [
      "{'_id': ObjectId('634c8921813cfafb45f91e32'), 'title': None, 'preview_text': None}\n",
      "{'_id': ObjectId('634c8a6a813cfafb45f91e33'), 'title': None, 'preview_text': None}\n",
      "{'_id': ObjectId('634c8a6a813cfafb45f91e34'), 'title': None, 'preview_text': None}\n",
      "{'_id': ObjectId('634c8a6a813cfafb45f91e35'), 'title': None, 'preview_text': None}\n",
      "{'_id': ObjectId('634c8a6a813cfafb45f91e36'), 'title': None, 'preview_text': None}\n",
      "{'_id': ObjectId('634c8a7e813cfafb45f91e37'), 'title': None, 'preview_text': None}\n",
      "{'_id': ObjectId('634c8a7e813cfafb45f91e38'), 'title': None, 'preview_text': None}\n",
      "{'_id': ObjectId('634c8a7e813cfafb45f91e39'), 'title': None, 'preview_text': None}\n",
      "{'_id': ObjectId('634c8adb813cfafb45f91e3a'), 'title': None, 'preview_text': None}\n",
      "{'_id': ObjectId('634c8ae3813cfafb45f91e3b'), 'title': None, 'preview_text': None}\n",
      "{'_id': ObjectId('634c8ae3813cfafb45f91e3c'), 'title': None, 'preview_text': None}\n",
      "{'_id': ObjectId('634c8ae3813cfafb45f91e3d'), 'title': None, 'preview_text': None}\n",
      "{'_id': ObjectId('634c8ae3813cfafb45f91e3e'), 'title': None, 'preview_text': None}\n",
      "{'_id': ObjectId('634c8b2d813cfafb45f91e3f'), 'title': [], 'preview_text': []}\n",
      "{'_id': ObjectId('634c8b2d813cfafb45f91e40'), 'title': [], 'preview_text': []}\n",
      "{'_id': ObjectId('634c8b2d813cfafb45f91e41'), 'title': [], 'preview_text': []}\n",
      "{'_id': ObjectId('634c8b2d813cfafb45f91e42'), 'title': [], 'preview_text': []}\n",
      "{'_id': ObjectId('634c9279813cfafb45f91e43'), 'title': [], 'preview_text': []}\n",
      "{'_id': ObjectId('634c9279813cfafb45f91e44'), 'title': [], 'preview_text': []}\n",
      "{'_id': ObjectId('634c9279813cfafb45f91e45'), 'title': [], 'preview_text': []}\n",
      "{'_id': ObjectId('634c9279813cfafb45f91e46'), 'title': [], 'preview_text': []}\n",
      "{'_id': ObjectId('634c9311813cfafb45f91e48'), 'title': [], 'preview_text': []}\n",
      "{'_id': ObjectId('634c9311813cfafb45f91e49'), 'title': [], 'preview_text': []}\n",
      "{'_id': ObjectId('634c9311813cfafb45f91e4a'), 'title': [], 'preview_text': []}\n",
      "{'_id': ObjectId('634c9311813cfafb45f91e4b'), 'title': [], 'preview_text': []}\n",
      "{'_id': ObjectId('634c93cb813cfafb45f91e4d'), 'title': [], 'preview_text': []}\n",
      "{'_id': ObjectId('634c93cb813cfafb45f91e4e'), 'title': [], 'preview_text': []}\n",
      "{'_id': ObjectId('634c93cb813cfafb45f91e4f'), 'title': [], 'preview_text': []}\n",
      "{'_id': ObjectId('634c93cb813cfafb45f91e50'), 'title': [], 'preview_text': []}\n",
      "{'_id': ObjectId('634c9650813cfafb45f91e52'), 'title': None, 'preview_text': None}\n",
      "{'_id': ObjectId('634c9748813cfafb45f91e53'), 'title': None, 'preview_text': None}\n",
      "{'_id': ObjectId('634c97cd813cfafb45f91e54'), 'title': None, 'preview_text': None}\n",
      "{'_id': ObjectId('634c97fa813cfafb45f91e55'), 'title': None, 'preview_text': None}\n",
      "{'_id': ObjectId('634c9a93813cfafb45f91e56'), 'title': None, 'preview_text': None}\n",
      "{'_id': ObjectId('634c9c2f813cfafb45f91e57'), 'title': None, 'preview_text': None}\n",
      "{'_id': ObjectId('634c9ce3813cfafb45f91e58'), 'title': None, 'preview_text': None}\n",
      "{'_id': ObjectId('634ca252813cfafb45f91e5c'), 'title': None, 'region': None}\n",
      "{'_id': ObjectId('634ca29a813cfafb45f91e5d'), 'title': None, 'region': None}\n",
      "{'_id': ObjectId('634ca29b813cfafb45f91e5e'), 'title': None, 'region': None}\n",
      "{'_id': ObjectId('634ca2fe813cfafb45f91e5f'), 'title': None, 'region': None}\n",
      "{'_id': ObjectId('634ca434813cfafb45f91e60'), 'title': None, 'region': None}\n",
      "{'_id': ObjectId('634ca434813cfafb45f91e61'), 'title': None, 'region': None}\n",
      "{'_id': ObjectId('634ca434813cfafb45f91e62'), 'title': None, 'region': None}\n",
      "{'_id': ObjectId('634ca445813cfafb45f91e63'), 'title': None, 'region': None}\n",
      "{'_id': ObjectId('634ca445813cfafb45f91e64'), 'title': None, 'region': None}\n",
      "{'_id': ObjectId('634ca445813cfafb45f91e65'), 'title': None, 'region': None}\n",
      "{'_id': ObjectId('634ca4e0813cfafb45f91e66'), 'title': None, 'region': None}\n",
      "{'_id': ObjectId('634ca4e0813cfafb45f91e67'), 'title': None, 'region': None}\n",
      "{'_id': ObjectId('634ca4e0813cfafb45f91e68'), 'title': None, 'region': None}\n",
      "{'_id': ObjectId('634ca4f6813cfafb45f91e69'), 'title': None, 'preview_text': None}\n",
      "{'_id': ObjectId('634ca4f6813cfafb45f91e6a'), 'title': None, 'preview_text': None}\n",
      "{'_id': ObjectId('634ca4f6813cfafb45f91e6b'), 'title': None, 'preview_text': None}\n",
      "{'_id': ObjectId('634caa98813cfafb45f91e6c'), 'title': None, 'preview_text': None}\n",
      "{'_id': ObjectId('634caa98813cfafb45f91e6d'), 'title': None, 'preview_text': None}\n",
      "{'_id': ObjectId('634caa98813cfafb45f91e6e'), 'title': None, 'preview_text': None}\n",
      "{'_id': ObjectId('634caabd813cfafb45f91e6f'), 'title': None, 'preview_text': None}\n",
      "{'_id': ObjectId('634caabd813cfafb45f91e70'), 'title': None, 'preview_text': None}\n",
      "{'_id': ObjectId('634caabd813cfafb45f91e71'), 'title': None, 'preview_text': None}\n",
      "{'_id': ObjectId('634cab02813cfafb45f91e72'), 'title': None, 'preview_text': None}\n",
      "{'_id': ObjectId('634cab02813cfafb45f91e73'), 'title': None, 'preview_text': None}\n",
      "{'_id': ObjectId('634cab02813cfafb45f91e74'), 'title': None, 'preview_text': None}\n",
      "{'_id': ObjectId('634cab26813cfafb45f91e75'), 'title': None, 'preview_text': None}\n",
      "{'_id': ObjectId('634cab26813cfafb45f91e76'), 'title': None, 'preview_text': None}\n",
      "{'_id': ObjectId('634cab26813cfafb45f91e77'), 'title': None, 'preview_text': None}\n",
      "{'_id': ObjectId('634cab33813cfafb45f91e78'), 'title': None, 'preview_text': None}\n",
      "{'_id': ObjectId('634cab33813cfafb45f91e79'), 'title': None, 'preview_text': None}\n",
      "{'_id': ObjectId('634cab33813cfafb45f91e7a'), 'title': None, 'preview_text': None}\n",
      "{'_id': ObjectId('634cabac813cfafb45f91e7b'), 'title': None, 'preview_text': None}\n",
      "{'_id': ObjectId('634cabac813cfafb45f91e7c'), 'title': None, 'preview_text': None}\n",
      "{'_id': ObjectId('634cabac813cfafb45f91e7d'), 'title': None, 'preview_text': None}\n",
      "{'_id': ObjectId('634cabac813cfafb45f91e7e'), 'title': None, 'preview_text': None}\n",
      "{'_id': ObjectId('634cabcb813cfafb45f91e7f'), 'title': None, 'preview_text': None}\n",
      "{'_id': ObjectId('634cabe9813cfafb45f91e80'), 'title': None, 'preview_text': None}\n",
      "{'_id': ObjectId('634cac59813cfafb45f91e81'), 'title': None, 'preview_text': None}\n",
      "{'_id': ObjectId('634cac59813cfafb45f91e82'), 'title': None, 'preview_text': None}\n",
      "{'_id': ObjectId('634cac59813cfafb45f91e83'), 'title': None, 'preview_text': None}\n",
      "{'_id': ObjectId('634cc8e777342046fc5fcf65'), 'title': None, 'preview_text': None}\n",
      "{'_id': ObjectId('634cc8e777342046fc5fcf66'), 'title': None, 'preview_text': None}\n",
      "{'_id': ObjectId('634cc8e777342046fc5fcf67'), 'title': None, 'preview_text': None}\n"
     ]
    }
   ],
   "source": [
    "listings = db.items.find()\n",
    "\n",
    "for listing in listings:\n",
    "    print(listing)"
   ]
  }
 ],
 "metadata": {
  "kernelspec": {
   "display_name": "Python 3.9.12 ('base')",
   "language": "python",
   "name": "python3"
  },
  "language_info": {
   "codemirror_mode": {
    "name": "ipython",
    "version": 3
   },
   "file_extension": ".py",
   "mimetype": "text/x-python",
   "name": "python",
   "nbconvert_exporter": "python",
   "pygments_lexer": "ipython3",
   "version": "3.9.12"
  },
  "orig_nbformat": 4,
  "vscode": {
   "interpreter": {
    "hash": "c487c4468cc553fab60ba0a7493e6ff6c50c2cdc6acb9fcf9879f61105e9ad28"
   }
  }
 },
 "nbformat": 4,
 "nbformat_minor": 2
}
